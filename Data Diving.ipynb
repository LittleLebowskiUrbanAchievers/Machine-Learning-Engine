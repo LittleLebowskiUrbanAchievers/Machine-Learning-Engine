{
 "cells": [
  {
   "cell_type": "markdown",
   "metadata": {},
   "source": [
    "['id', 'pageurl', 'eid', 'mid', 'event_name', 'event_org', 'event_date',\n",
    "       'event_place', 'f1pageurl', 'f2pageurl', 'f1name', 'f2name', 'f1result',\n",
    "       'f2result', 'f1fid', 'f2fid', 'method', 'method_d', 'ref', 'round',\n",
    "       'duration', 'id', 'url', 'fid', 'name', 'nick', 'birth_date', 'height',\n",
    "       'weight', 'association', 'class', 'locality', 'country', 'id', 'url',\n",
    "       'fid', 'name', 'nick', 'birth_date', 'height', 'weight', 'association',\n",
    "       'class', 'locality', 'country']"
   ]
  },
  {
   "cell_type": "code",
   "execution_count": 109,
   "metadata": {
    "collapsed": false
   },
   "outputs": [],
   "source": [
    "import pandas as pd\n",
    "from ggplot import *\n",
    "import matplotlib.pyplot as plt\n",
    "%matplotlib inline\n",
    "import psycopg2\n",
    "\n",
    "\n",
    "try:\n",
    "    conn = psycopg2.connect(\"dbname='samkreter' user='samkreter' host='localhost'\")\n",
    "except:\n",
    "    print(\"I am unable to connect to the database\")\n",
    "\n",
    "cur = conn.cursor()\n",
    "df = pd.read_sql_query(\"select  fights.f1result, f1.birth_date AS f1_birth_date, f1.height AS f1_height, \\\n",
    "       f1.weight AS f1_weight, f2.birth_date AS f2_birth_date, f2.height AS f2_height, f2.weight AS f2_weight \\\n",
    "        from fights INNER JOIN fighters AS f1 ON fights.f1name = f1.name INNER JOIN fighters AS f2 ON fights.f2name = f2.name;\", conn)\n",
    "conn.close()"
   ]
  },
  {
   "cell_type": "code",
   "execution_count": 95,
   "metadata": {
    "collapsed": false
   },
   "outputs": [
    {
     "data": {
      "text/html": [
       "<div>\n",
       "<table border=\"1\" class=\"dataframe\">\n",
       "  <thead>\n",
       "    <tr style=\"text-align: right;\">\n",
       "      <th></th>\n",
       "      <th>f1result</th>\n",
       "      <th>f1_birth_date</th>\n",
       "      <th>f1_height</th>\n",
       "      <th>f1_weight</th>\n",
       "      <th>f2_birth_date</th>\n",
       "      <th>f2_height</th>\n",
       "      <th>f2_weight</th>\n",
       "    </tr>\n",
       "  </thead>\n",
       "  <tbody>\n",
       "    <tr>\n",
       "      <th>0</th>\n",
       "      <td>win</td>\n",
       "      <td>None</td>\n",
       "      <td>0</td>\n",
       "      <td>155</td>\n",
       "      <td>None</td>\n",
       "      <td>0</td>\n",
       "      <td>0</td>\n",
       "    </tr>\n",
       "    <tr>\n",
       "      <th>1</th>\n",
       "      <td>win</td>\n",
       "      <td>1974-12-06</td>\n",
       "      <td>67</td>\n",
       "      <td>135</td>\n",
       "      <td>1969-07-16</td>\n",
       "      <td>72</td>\n",
       "      <td>160</td>\n",
       "    </tr>\n",
       "    <tr>\n",
       "      <th>2</th>\n",
       "      <td>win</td>\n",
       "      <td>1974-07-26</td>\n",
       "      <td>72</td>\n",
       "      <td>169</td>\n",
       "      <td>1973-05-20</td>\n",
       "      <td>70</td>\n",
       "      <td>170</td>\n",
       "    </tr>\n",
       "    <tr>\n",
       "      <th>3</th>\n",
       "      <td>win</td>\n",
       "      <td>1974-07-26</td>\n",
       "      <td>72</td>\n",
       "      <td>169</td>\n",
       "      <td>1973-05-20</td>\n",
       "      <td>70</td>\n",
       "      <td>170</td>\n",
       "    </tr>\n",
       "    <tr>\n",
       "      <th>4</th>\n",
       "      <td>win</td>\n",
       "      <td>1974-12-06</td>\n",
       "      <td>67</td>\n",
       "      <td>135</td>\n",
       "      <td>1978-12-13</td>\n",
       "      <td>69</td>\n",
       "      <td>145</td>\n",
       "    </tr>\n",
       "  </tbody>\n",
       "</table>\n",
       "</div>"
      ],
      "text/plain": [
       "  f1result f1_birth_date  f1_height  f1_weight f2_birth_date  f2_height  \\\n",
       "0      win          None          0        155          None          0   \n",
       "1      win    1974-12-06         67        135    1969-07-16         72   \n",
       "2      win    1974-07-26         72        169    1973-05-20         70   \n",
       "3      win    1974-07-26         72        169    1973-05-20         70   \n",
       "4      win    1974-12-06         67        135    1978-12-13         69   \n",
       "\n",
       "   f2_weight  \n",
       "0          0  \n",
       "1        160  \n",
       "2        170  \n",
       "3        170  \n",
       "4        145  "
      ]
     },
     "execution_count": 95,
     "metadata": {},
     "output_type": "execute_result"
    }
   ],
   "source": [
    "df.head()"
   ]
  },
  {
   "cell_type": "code",
   "execution_count": 110,
   "metadata": {
    "collapsed": false,
    "scrolled": false
   },
   "outputs": [],
   "source": [
    "import datetime as DT\n",
    "from dateutil.relativedelta import relativedelta\n",
    "\n",
    "\n",
    "pd.set_option('display.max_columns', None)"
   ]
  },
  {
   "cell_type": "code",
   "execution_count": 111,
   "metadata": {
    "collapsed": false
   },
   "outputs": [],
   "source": [
    "#Convert results to numbers \n",
    "df['f1result'] = df['f1result'].replace(['win', 'draw', 'NC'],[1,2,2])\n"
   ]
  },
  {
   "cell_type": "code",
   "execution_count": 112,
   "metadata": {
    "collapsed": false
   },
   "outputs": [
    {
     "data": {
      "text/html": [
       "<div>\n",
       "<table border=\"1\" class=\"dataframe\">\n",
       "  <thead>\n",
       "    <tr style=\"text-align: right;\">\n",
       "      <th></th>\n",
       "      <th>f1result</th>\n",
       "      <th>f1_height</th>\n",
       "      <th>f1_weight</th>\n",
       "      <th>f2_height</th>\n",
       "      <th>f2_weight</th>\n",
       "      <th>f1_age</th>\n",
       "      <th>f2_age</th>\n",
       "    </tr>\n",
       "  </thead>\n",
       "  <tbody>\n",
       "    <tr>\n",
       "      <th>0</th>\n",
       "      <td>1</td>\n",
       "      <td>0</td>\n",
       "      <td>155</td>\n",
       "      <td>0</td>\n",
       "      <td>0</td>\n",
       "      <td>0</td>\n",
       "      <td>0</td>\n",
       "    </tr>\n",
       "    <tr>\n",
       "      <th>1</th>\n",
       "      <td>1</td>\n",
       "      <td>67</td>\n",
       "      <td>135</td>\n",
       "      <td>72</td>\n",
       "      <td>160</td>\n",
       "      <td>42</td>\n",
       "      <td>47</td>\n",
       "    </tr>\n",
       "    <tr>\n",
       "      <th>2</th>\n",
       "      <td>1</td>\n",
       "      <td>72</td>\n",
       "      <td>169</td>\n",
       "      <td>70</td>\n",
       "      <td>170</td>\n",
       "      <td>42</td>\n",
       "      <td>43</td>\n",
       "    </tr>\n",
       "    <tr>\n",
       "      <th>3</th>\n",
       "      <td>1</td>\n",
       "      <td>72</td>\n",
       "      <td>169</td>\n",
       "      <td>70</td>\n",
       "      <td>170</td>\n",
       "      <td>42</td>\n",
       "      <td>43</td>\n",
       "    </tr>\n",
       "    <tr>\n",
       "      <th>4</th>\n",
       "      <td>1</td>\n",
       "      <td>67</td>\n",
       "      <td>135</td>\n",
       "      <td>69</td>\n",
       "      <td>145</td>\n",
       "      <td>42</td>\n",
       "      <td>38</td>\n",
       "    </tr>\n",
       "  </tbody>\n",
       "</table>\n",
       "</div>"
      ],
      "text/plain": [
       "   f1result  f1_height  f1_weight  f2_height  f2_weight  f1_age  f2_age\n",
       "0         1          0        155          0          0       0       0\n",
       "1         1         67        135         72        160      42      47\n",
       "2         1         72        169         70        170      42      43\n",
       "3         1         72        169         70        170      42      43\n",
       "4         1         67        135         69        145      42      38"
      ]
     },
     "execution_count": 112,
     "metadata": {},
     "output_type": "execute_result"
    }
   ],
   "source": [
    "#Convert the birthdate to an age############\n",
    "now = DT.datetime.now().date()\n",
    "def t(x):\n",
    "    try:\n",
    "        return int((now - x).days / 365)\n",
    "    except:\n",
    "        return 0\n",
    "    \n",
    "df[\"f1_age\"] = df[\"f1_birth_date\"].apply(t)\n",
    "df[\"f2_age\"] = df['f2_birth_date'].apply(t)\n",
    "\n",
    "\n",
    "del df['f1_birth_date']\n",
    "del df['f2_birth_date']\n",
    "\n",
    "df.head()"
   ]
  },
  {
   "cell_type": "code",
   "execution_count": 114,
   "metadata": {
    "collapsed": false
   },
   "outputs": [
    {
     "data": {
      "text/html": [
       "<div>\n",
       "<table border=\"1\" class=\"dataframe\">\n",
       "  <thead>\n",
       "    <tr style=\"text-align: right;\">\n",
       "      <th></th>\n",
       "      <th>f1result</th>\n",
       "      <th>f1_height</th>\n",
       "      <th>f1_weight</th>\n",
       "      <th>f2_height</th>\n",
       "      <th>f2_weight</th>\n",
       "      <th>f1_age</th>\n",
       "      <th>f2_age</th>\n",
       "    </tr>\n",
       "  </thead>\n",
       "  <tbody>\n",
       "    <tr>\n",
       "      <th>0</th>\n",
       "      <td>1</td>\n",
       "      <td>0</td>\n",
       "      <td>155</td>\n",
       "      <td>0</td>\n",
       "      <td>0</td>\n",
       "      <td>0</td>\n",
       "      <td>0</td>\n",
       "    </tr>\n",
       "    <tr>\n",
       "      <th>1</th>\n",
       "      <td>1</td>\n",
       "      <td>67</td>\n",
       "      <td>135</td>\n",
       "      <td>72</td>\n",
       "      <td>160</td>\n",
       "      <td>42</td>\n",
       "      <td>47</td>\n",
       "    </tr>\n",
       "    <tr>\n",
       "      <th>2</th>\n",
       "      <td>1</td>\n",
       "      <td>72</td>\n",
       "      <td>169</td>\n",
       "      <td>70</td>\n",
       "      <td>170</td>\n",
       "      <td>42</td>\n",
       "      <td>43</td>\n",
       "    </tr>\n",
       "    <tr>\n",
       "      <th>3</th>\n",
       "      <td>1</td>\n",
       "      <td>72</td>\n",
       "      <td>169</td>\n",
       "      <td>70</td>\n",
       "      <td>170</td>\n",
       "      <td>42</td>\n",
       "      <td>43</td>\n",
       "    </tr>\n",
       "    <tr>\n",
       "      <th>4</th>\n",
       "      <td>1</td>\n",
       "      <td>67</td>\n",
       "      <td>135</td>\n",
       "      <td>69</td>\n",
       "      <td>145</td>\n",
       "      <td>42</td>\n",
       "      <td>38</td>\n",
       "    </tr>\n",
       "  </tbody>\n",
       "</table>\n",
       "</div>"
      ],
      "text/plain": [
       "   f1result  f1_height  f1_weight  f2_height  f2_weight  f1_age  f2_age\n",
       "0         1          0        155          0          0       0       0\n",
       "1         1         67        135         72        160      42      47\n",
       "2         1         72        169         70        170      42      43\n",
       "3         1         72        169         70        170      42      43\n",
       "4         1         67        135         69        145      42      38"
      ]
     },
     "execution_count": 114,
     "metadata": {},
     "output_type": "execute_result"
    }
   ],
   "source": [
    "df2 = df.copy()\n",
    "tmp = df2[[\"f1_height\",\"f1_weight\",\"f1_age\"]]\n",
    "df2[[\"f1_height\",\"f1_weight\",\"f1_age\"]] = df2[[\"f2_height\",\"f2_weight\",\"f2_age\"]]\n",
    "df2[[\"f2_height\",\"f2_weight\",\"f2_age\"]] = tmp\n",
    "\n",
    "df2['f1result'] = 0\n",
    "\n",
    "\n",
    "#Create the labels\n",
    "y1 = df['f1result']\n",
    "y2 = df2['f1result']\n",
    "\n",
    "y = y1.append(y2)\n",
    "X = df.append(df2)\n",
    "X.head()\n",
    "#y.head()"
   ]
  },
  {
   "cell_type": "code",
   "execution_count": 124,
   "metadata": {
    "collapsed": false
   },
   "outputs": [
    {
     "name": "stdout",
     "output_type": "stream",
     "text": [
      "Accuracy of the model is: 100.00%\n"
     ]
    }
   ],
   "source": [
    "from sklearn import datasets\n",
    "# Our Classifier\n",
    "from sklearn.naive_bayes import GaussianNB\n",
    "# Get the accuracy score of the final model\n",
    "from sklearn.metrics import accuracy_score\n",
    "# Split the training set into train and test\n",
    "from sklearn.cross_validation import train_test_split\n",
    "\n",
    "\n",
    "\n",
    "X_train, X_test, y_train, y_test = train_test_split(X,y,test_size=.5,random_state = 1)\n",
    "\n",
    "nbc = GaussianNB()\n",
    "\n",
    "nbc.fit(X_train,y_train)\n",
    "\n",
    "preds = nbc.predict(X_test)\n",
    "\n",
    "\n",
    "\n",
    "print(\"Accuracy of the model is: %.2f%%\" % (accuracy_score(preds,y_test) * 100))\n",
    "\n"
   ]
  },
  {
   "cell_type": "code",
   "execution_count": null,
   "metadata": {
    "collapsed": true
   },
   "outputs": [],
   "source": []
  },
  {
   "cell_type": "code",
   "execution_count": 29,
   "metadata": {
    "collapsed": false
   },
   "outputs": [
    {
     "data": {
      "text/plain": [
       "array([  81.65,   90.72,  102.06,   96.16,   92.08,   70.31,   78.93,\n",
       "        100.7 ,   83.91,   77.11,   92.53,  113.4 ,   97.98,  188.24,\n",
       "        120.2 ,  104.33,   79.83,   88.9 ,   86.18,   95.25,    0.  ,\n",
       "        131.54,  111.13,   80.74,  104.78,  272.16,  108.86,   92.99,\n",
       "        106.59,   97.52,   99.79,  117.93,  107.05,  114.76,  133.81,\n",
       "        112.49,   99.34,   76.66,   75.75,   87.54,  124.74,  115.67,\n",
       "         82.1 ,   71.21,   86.64,  141.97,   74.84,  145.15,   63.5 ,\n",
       "         66.22,   91.63,  181.44,  136.08,  117.48,   84.82,  185.97,\n",
       "         90.26,  146.51,  176.9 ,  102.97,   88.45,   82.55,  105.69,\n",
       "        102.51,   93.89,   89.81,  150.59,   93.44,  109.77,   72.12,\n",
       "         72.57,  156.49,   84.37,  110.68,   83.01,   61.23,   71.67,\n",
       "         98.43,   65.77,   79.38,   76.2 ,   96.62,  107.95,  109.32,\n",
       "         77.56,   68.04,  110.22,  101.6 ,  143.34,  107.5 ,  127.01,\n",
       "        122.47,  134.72,  106.14,   98.88,  129.73,  119.75,  111.58,\n",
       "        154.22,   83.46,   63.05,  172.37,   70.76,   81.19,   61.69,\n",
       "         69.85,   78.02,   59.87,   64.86,   68.95,   65.32,   73.48,\n",
       "         97.07,  112.94,  108.41,  116.57,  116.12,   56.7 ,  103.42,\n",
       "        139.71,   88.  ,   58.97,   87.09,   94.8 ,   68.49,   64.41,\n",
       "         85.28,   63.96,   74.39,   54.88,   55.34,   69.4 ,   67.13,\n",
       "         55.79,   51.71,   62.6 ,   52.16,   80.29,   89.36,   60.78,\n",
       "        101.15,  132.9 ,   73.94,   85.73,   58.51,   66.68,   75.3 ,\n",
       "        136.53,  103.87,   73.03,  147.42,   67.59,  126.1 ,  119.29,\n",
       "         58.06,   91.17,  149.69,  135.17,   94.35,  114.31,  151.05,\n",
       "        118.84,  179.62,  130.63,  163.29,   78.47,  117.03,   95.71,\n",
       "        113.85,  120.66,  174.63,  124.28,  128.82,  142.88,  126.55,\n",
       "        136.98,   51.26,   60.33,  118.39,  149.23,   62.14,  140.61,\n",
       "         48.08,   46.72,   45.36,   53.98,   53.07,   43.09,   47.63,\n",
       "         54.43,   48.99,   45.81,   57.61,   44.91,  138.35,  159.66,\n",
       "        129.27,  115.21,  112.04,   59.42,  164.2 ])"
      ]
     },
     "execution_count": 29,
     "metadata": {},
     "output_type": "execute_result"
    }
   ],
   "source": [
    "stat1 = pd.read_csv(\"sherdog-fighters.csv\")\n",
    "stat1.head()\n",
    "\n",
    "stat1['Weight (KG)'].unique()"
   ]
  }
 ],
 "metadata": {
  "kernelspec": {
   "display_name": "Python 3",
   "language": "python",
   "name": "python3"
  },
  "language_info": {
   "codemirror_mode": {
    "name": "ipython",
    "version": 3
   },
   "file_extension": ".py",
   "mimetype": "text/x-python",
   "name": "python",
   "nbconvert_exporter": "python",
   "pygments_lexer": "ipython3",
   "version": "3.5.1"
  }
 },
 "nbformat": 4,
 "nbformat_minor": 2
}
