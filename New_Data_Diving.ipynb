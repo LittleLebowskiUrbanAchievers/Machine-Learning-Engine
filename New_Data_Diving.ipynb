{
 "cells": [
  {
   "cell_type": "code",
   "execution_count": 1,
   "metadata": {
    "collapsed": false
   },
   "outputs": [],
   "source": [
    "import pandas as pd\n",
    "from ggplot import *\n",
    "import matplotlib.pyplot as plt\n",
    "%matplotlib inline\n",
    "import psycopg2\n",
    "import scipy\n",
    "\n",
    "pd.set_option('display.max_columns', None)\n",
    "\n",
    "try:\n",
    "    conn = psycopg2.connect(\"dbname='capstone' user='samkreter' host='localhost'\")\n",
    "except:\n",
    "    print(\"I am unable to connect to the database\")\n",
    "\n",
    "cur = conn.cursor()\n",
    "\n",
    "sql = \"select   fights.f1result, \\\n",
    "                f1.height_inches AS f1_height,\\\n",
    "                f1.reach_inches AS f1_reach, \\\n",
    "                f1.weight_lbs AS f1_weight, \\\n",
    "                f1.strike_offense_per_min AS f1_strike_offense_per_min, \\\n",
    "                f1.strike_offense_accuracy AS f1_strike_offense_accuracy, \\\n",
    "                f1.strike_defense_per_min AS f1_strike_defense_per_min, \\\n",
    "                f1.strike_defense_accuracy AS f1_strike_defense_accuracy, \\\n",
    "                f1.takedowns_per_fight AS f1_takedowns_per_fight, \\\n",
    "                                                \\\n",
    "                f2.height_inches AS f2_height, \\\n",
    "                f2.reach_inches AS f2_reach, \\\n",
    "                f2.weight_lbs AS f2_weight, \\\n",
    "                f2.strike_offense_per_min AS f2_strike_offense_per_min, \\\n",
    "                f2.strike_offense_accuracy AS f2_strike_offense_accuracy, \\\n",
    "                f2.strike_defense_per_min AS f2_strike_defense_per_min, \\\n",
    "                f2.strike_defense_accuracy AS f2_strike_defense_accuracy, \\\n",
    "                f2.takedowns_per_fight AS f2_takedowns_per_fight \\\n",
    "                from octagon.fights INNER JOIN octagon.fighters AS f1 ON octagon.fights.f1name = f1.name INNER JOIN octagon.fighters AS f2 ON octagon.fights.f2name = f2.name;\"\n",
    "\n",
    "df = pd.read_sql_query(sql, conn)\n",
    "\n",
    "test = pd.read_sql_query(\"select * from octagon.fighters\",conn)\n",
    "\n",
    "\n",
    "\n",
    "# df = pd.read_sql_query(\"select * from octagon.fights\",conn)\n",
    "df2 = pd.read_sql_query(\"select * from octagon.fighters\",conn)\n",
    "conn.close()\n"
   ]
  },
  {
   "cell_type": "code",
   "execution_count": 3,
   "metadata": {
    "collapsed": false
   },
   "outputs": [
    {
     "data": {
      "text/html": [
       "<div>\n",
       "<table border=\"1\" class=\"dataframe\">\n",
       "  <thead>\n",
       "    <tr style=\"text-align: right;\">\n",
       "      <th></th>\n",
       "      <th>fid</th>\n",
       "      <th>name</th>\n",
       "      <th>dob</th>\n",
       "      <th>height_inches</th>\n",
       "      <th>weight_lbs</th>\n",
       "      <th>association</th>\n",
       "      <th>division</th>\n",
       "      <th>country</th>\n",
       "      <th>reach_inches</th>\n",
       "      <th>strike_offense_per_min</th>\n",
       "      <th>strike_offense_accuracy</th>\n",
       "      <th>strike_defense_per_min</th>\n",
       "      <th>strike_defense_accuracy</th>\n",
       "      <th>takedowns_per_fight</th>\n",
       "      <th>takedowns_accuracy</th>\n",
       "      <th>takedowns_defense</th>\n",
       "      <th>submissions_per_fight</th>\n",
       "      <th>wins</th>\n",
       "      <th>losses</th>\n",
       "      <th>draws</th>\n",
       "      <th>total_fights</th>\n",
       "      <th>win_pct</th>\n",
       "      <th>finish_pct</th>\n",
       "    </tr>\n",
       "  </thead>\n",
       "  <tbody>\n",
       "    <tr>\n",
       "      <th>0</th>\n",
       "      <td>230</td>\n",
       "      <td>John Lewis</td>\n",
       "      <td>1969-07-16</td>\n",
       "      <td>72</td>\n",
       "      <td>160</td>\n",
       "      <td>Lewis</td>\n",
       "      <td>Welterweight</td>\n",
       "      <td>United States</td>\n",
       "      <td>NaN</td>\n",
       "      <td>NaN</td>\n",
       "      <td>NaN</td>\n",
       "      <td>NaN</td>\n",
       "      <td>NaN</td>\n",
       "      <td>NaN</td>\n",
       "      <td>NaN</td>\n",
       "      <td>NaN</td>\n",
       "      <td>NaN</td>\n",
       "      <td>0</td>\n",
       "      <td>1</td>\n",
       "      <td>0</td>\n",
       "      <td>1</td>\n",
       "      <td>0</td>\n",
       "      <td>0</td>\n",
       "    </tr>\n",
       "  </tbody>\n",
       "</table>\n",
       "</div>"
      ],
      "text/plain": [
       "   fid        name         dob  height_inches  weight_lbs association  \\\n",
       "0  230  John Lewis  1969-07-16             72         160       Lewis   \n",
       "\n",
       "       division        country  reach_inches  strike_offense_per_min  \\\n",
       "0  Welterweight  United States           NaN                     NaN   \n",
       "\n",
       "   strike_offense_accuracy  strike_defense_per_min  strike_defense_accuracy  \\\n",
       "0                      NaN                     NaN                      NaN   \n",
       "\n",
       "   takedowns_per_fight  takedowns_accuracy  takedowns_defense  \\\n",
       "0                  NaN                 NaN                NaN   \n",
       "\n",
       "   submissions_per_fight  wins  losses  draws  total_fights  win_pct  \\\n",
       "0                    NaN     0       1      0             1        0   \n",
       "\n",
       "   finish_pct  \n",
       "0           0  "
      ]
     },
     "execution_count": 3,
     "metadata": {},
     "output_type": "execute_result"
    }
   ],
   "source": [
    "test.head(n=1)"
   ]
  },
  {
   "cell_type": "code",
   "execution_count": 6,
   "metadata": {
    "collapsed": false
   },
   "outputs": [
    {
     "data": {
      "text/plain": [
       "634"
      ]
     },
     "execution_count": 6,
     "metadata": {},
     "output_type": "execute_result"
    }
   ],
   "source": [
    "len(test['association'].unique())"
   ]
  },
  {
   "cell_type": "code",
   "execution_count": null,
   "metadata": {
    "collapsed": false,
    "scrolled": true
   },
   "outputs": [
    {
     "data": {
      "text/html": [
       "<div>\n",
       "<table border=\"1\" class=\"dataframe\">\n",
       "  <thead>\n",
       "    <tr style=\"text-align: right;\">\n",
       "      <th></th>\n",
       "      <th>f1result</th>\n",
       "      <th>f1_height</th>\n",
       "      <th>f1_reach</th>\n",
       "      <th>f1_weight</th>\n",
       "      <th>f1_strike_offense_per_min</th>\n",
       "      <th>f1_strike_offense_accuracy</th>\n",
       "      <th>f1_strike_defense_per_min</th>\n",
       "      <th>f1_strike_defense_accuracy</th>\n",
       "      <th>f1_takedowns_per_fight</th>\n",
       "      <th>f2_height</th>\n",
       "      <th>f2_reach</th>\n",
       "      <th>f2_weight</th>\n",
       "      <th>f2_strike_offense_per_min</th>\n",
       "      <th>f2_strike_offense_accuracy</th>\n",
       "      <th>f2_strike_defense_per_min</th>\n",
       "      <th>f2_strike_defense_accuracy</th>\n",
       "      <th>f2_takedowns_per_fight</th>\n",
       "    </tr>\n",
       "  </thead>\n",
       "  <tbody>\n",
       "    <tr>\n",
       "      <th>0</th>\n",
       "      <td>1</td>\n",
       "      <td>78</td>\n",
       "      <td>81</td>\n",
       "      <td>260</td>\n",
       "      <td>2.82</td>\n",
       "      <td>34</td>\n",
       "      <td>2.46</td>\n",
       "      <td>46</td>\n",
       "      <td>3.26</td>\n",
       "      <td>79</td>\n",
       "      <td>81</td>\n",
       "      <td>265</td>\n",
       "      <td>0.85</td>\n",
       "      <td>44</td>\n",
       "      <td>2.48</td>\n",
       "      <td>52</td>\n",
       "      <td>2.12</td>\n",
       "    </tr>\n",
       "    <tr>\n",
       "      <th>1</th>\n",
       "      <td>1</td>\n",
       "      <td>70</td>\n",
       "      <td>NaN</td>\n",
       "      <td>151</td>\n",
       "      <td>NaN</td>\n",
       "      <td>NaN</td>\n",
       "      <td>NaN</td>\n",
       "      <td>NaN</td>\n",
       "      <td>NaN</td>\n",
       "      <td>70</td>\n",
       "      <td>73</td>\n",
       "      <td>170</td>\n",
       "      <td>1.79</td>\n",
       "      <td>36</td>\n",
       "      <td>2.21</td>\n",
       "      <td>63</td>\n",
       "      <td>2.51</td>\n",
       "    </tr>\n",
       "    <tr>\n",
       "      <th>2</th>\n",
       "      <td>1</td>\n",
       "      <td>72</td>\n",
       "      <td>NaN</td>\n",
       "      <td>170</td>\n",
       "      <td>1.89</td>\n",
       "      <td>36</td>\n",
       "      <td>3.23</td>\n",
       "      <td>52</td>\n",
       "      <td>0.62</td>\n",
       "      <td>68</td>\n",
       "      <td>66</td>\n",
       "      <td>155</td>\n",
       "      <td>2.39</td>\n",
       "      <td>38</td>\n",
       "      <td>2.37</td>\n",
       "      <td>57</td>\n",
       "      <td>2.64</td>\n",
       "    </tr>\n",
       "    <tr>\n",
       "      <th>3</th>\n",
       "      <td>1</td>\n",
       "      <td>69</td>\n",
       "      <td>74</td>\n",
       "      <td>247</td>\n",
       "      <td>0.97</td>\n",
       "      <td>30</td>\n",
       "      <td>2.87</td>\n",
       "      <td>59</td>\n",
       "      <td>1.06</td>\n",
       "      <td>74</td>\n",
       "      <td>NaN</td>\n",
       "      <td>235</td>\n",
       "      <td>2.61</td>\n",
       "      <td>69</td>\n",
       "      <td>3.91</td>\n",
       "      <td>26</td>\n",
       "      <td>4.34</td>\n",
       "    </tr>\n",
       "    <tr>\n",
       "      <th>4</th>\n",
       "      <td>1</td>\n",
       "      <td>72</td>\n",
       "      <td>73</td>\n",
       "      <td>170</td>\n",
       "      <td>1.61</td>\n",
       "      <td>41</td>\n",
       "      <td>2.00</td>\n",
       "      <td>46</td>\n",
       "      <td>4.17</td>\n",
       "      <td>74</td>\n",
       "      <td>NaN</td>\n",
       "      <td>170</td>\n",
       "      <td>2.55</td>\n",
       "      <td>40</td>\n",
       "      <td>2.34</td>\n",
       "      <td>35</td>\n",
       "      <td>0.00</td>\n",
       "    </tr>\n",
       "  </tbody>\n",
       "</table>\n",
       "</div>"
      ],
      "text/plain": [
       "   f1result  f1_height  f1_reach  f1_weight  f1_strike_offense_per_min  \\\n",
       "0         1         78        81        260                       2.82   \n",
       "1         1         70       NaN        151                        NaN   \n",
       "2         1         72       NaN        170                       1.89   \n",
       "3         1         69        74        247                       0.97   \n",
       "4         1         72        73        170                       1.61   \n",
       "\n",
       "   f1_strike_offense_accuracy  f1_strike_defense_per_min  \\\n",
       "0                          34                       2.46   \n",
       "1                         NaN                        NaN   \n",
       "2                          36                       3.23   \n",
       "3                          30                       2.87   \n",
       "4                          41                       2.00   \n",
       "\n",
       "   f1_strike_defense_accuracy  f1_takedowns_per_fight  f2_height  f2_reach  \\\n",
       "0                          46                    3.26         79        81   \n",
       "1                         NaN                     NaN         70        73   \n",
       "2                          52                    0.62         68        66   \n",
       "3                          59                    1.06         74       NaN   \n",
       "4                          46                    4.17         74       NaN   \n",
       "\n",
       "   f2_weight  f2_strike_offense_per_min  f2_strike_offense_accuracy  \\\n",
       "0        265                       0.85                          44   \n",
       "1        170                       1.79                          36   \n",
       "2        155                       2.39                          38   \n",
       "3        235                       2.61                          69   \n",
       "4        170                       2.55                          40   \n",
       "\n",
       "   f2_strike_defense_per_min  f2_strike_defense_accuracy  \\\n",
       "0                       2.48                          52   \n",
       "1                       2.21                          63   \n",
       "2                       2.37                          57   \n",
       "3                       3.91                          26   \n",
       "4                       2.34                          35   \n",
       "\n",
       "   f2_takedowns_per_fight  \n",
       "0                    2.12  \n",
       "1                    2.51  \n",
       "2                    2.64  \n",
       "3                    4.34  \n",
       "4                    0.00  "
      ]
     },
     "execution_count": 2,
     "metadata": {},
     "output_type": "execute_result"
    }
   ],
   "source": [
    "df['f1result'] = df['f1result'].replace(['win', 'draw', 'NC'],[1,2,2])\n",
    "df.head()"
   ]
  },
  {
   "cell_type": "markdown",
   "metadata": {},
   "source": [
    "### Interpolate the data to fill in the NAs to get a better result of the data\n",
    "It was found that dropna works the best for the highest correclation results, We will revisit this later"
   ]
  },
  {
   "cell_type": "code",
   "execution_count": null,
   "metadata": {
    "collapsed": false
   },
   "outputs": [],
   "source": [
    "df0 = df.interpolate()\n",
    "df0 = df.dropna()\n",
    "df0 = df.interpolate(method='spline', order=2)\n",
    "df0 = df.interpolate(method='pchip')\n",
    "df = df.interpolate(method='polynomial', order=2)\n"
   ]
  },
  {
   "cell_type": "markdown",
   "metadata": {},
   "source": [
    "## Move the lossers to the end to have data for losing people"
   ]
  },
  {
   "cell_type": "code",
   "execution_count": null,
   "metadata": {
    "collapsed": false,
    "scrolled": true
   },
   "outputs": [],
   "source": [
    "df2 = df.copy()\n",
    "tmp = df2.ix[:,1:9]\n",
    "\n",
    "\n",
    "df2.ix[:,1:9] = df2.ix[:,9:17].values\n",
    "df2.ix[:,9:17] = tmp.values\n",
    "df2['f1result'] = 0\n",
    "\n",
    "\n",
    "df2.head()"
   ]
  },
  {
   "cell_type": "markdown",
   "metadata": {},
   "source": [
    "### Combine the two dataframes and randomize"
   ]
  },
  {
   "cell_type": "code",
   "execution_count": null,
   "metadata": {
    "collapsed": false,
    "scrolled": false
   },
   "outputs": [],
   "source": [
    "df = df.append(df2)\n",
    "df = df.sample(frac=1).reset_index(drop=True)\n",
    "df.head()"
   ]
  },
  {
   "cell_type": "code",
   "execution_count": null,
   "metadata": {
    "collapsed": true
   },
   "outputs": [],
   "source": [
    "#Pull the labels out of the dataset\n",
    "y = df['f1result']\n",
    "del df['f1result']\n",
    "\n",
    "X = df"
   ]
  },
  {
   "cell_type": "code",
   "execution_count": null,
   "metadata": {
    "collapsed": false
   },
   "outputs": [],
   "source": [
    "from sklearn import datasets\n",
    "# Our Classifier\n",
    "from sklearn.naive_bayes import GaussianNB\n",
    "# Get the accuracy score of the final model\n",
    "from sklearn.metrics import accuracy_score\n",
    "# Split the training set into train and test\n",
    "from sklearn.cross_validation import train_test_split\n",
    "#MLP Classifer\n",
    "from sklearn.neural_network import MLPClassifier\n",
    "from sklearn.neighbors import KNeighborsClassifier\n",
    "from sklearn.svm import SVC\n",
    "from sklearn.gaussian_process import GaussianProcessClassifier\n",
    "from sklearn.gaussian_process.kernels import RBF\n",
    "from sklearn.tree import DecisionTreeClassifier\n",
    "from sklearn.ensemble import RandomForestClassifier, AdaBoostClassifier\n",
    "\n",
    "X_train, X_test, y_train, y_test = train_test_split(X,y,test_size=.2,random_state = 1)\n",
    "\n",
    "names = [\"MLP\",\"Naive Bayes\",\"KNN\",\"SVM Linear\",\"SVM gamma\",\"Decsion Tree\", \"Random Forest\",\"adaBoost\"]\n",
    "\n",
    "clfs = [MLPClassifier(solver='sgd', alpha=1e-5, hidden_layer_sizes=(5, 2), random_state=1),\n",
    "        GaussianNB(),\n",
    "        KNeighborsClassifier(3),\n",
    "        SVC(kernel=\"linear\", C=0.025),\n",
    "        SVC(gamma=2, C=1),\n",
    "        #GaussianProcessClassifier(1.0 * RBF(1.0), warm_start=True),\n",
    "        DecisionTreeClassifier(max_depth=5),\n",
    "        RandomForestClassifier(max_depth=5, n_estimators=10, max_features=1),\n",
    "        AdaBoostClassifier()]\n",
    "\n",
    "\n",
    "\n",
    "for index, clf in enumerate(clfs):\n",
    "    clf.fit(X_train,y_train)\n",
    "    preds = clf.predict(X_test)\n",
    "    #print(names[index] + \" Accuracy of the model is: %.2f%%\" % (accuracy_score(preds,y_test) * 100))\n",
    "    print(\"%.2f\" % (accuracy_score(preds,y_test) * 100))\n",
    "\n",
    "\n",
    "\n",
    "# print(\"NBC Accuracy of the model is: %.2f%%\" % (accuracy_score(nbc_preds,y_test) * 100))\n",
    "# print(\"MLP Accuracy of the model is: %.2f%%\" % (accuracy_score(mlp_preds,y_test) * 100))\n"
   ]
  }
 ],
 "metadata": {
  "kernelspec": {
   "display_name": "Python 3",
   "language": "python",
   "name": "python3"
  },
  "language_info": {
   "codemirror_mode": {
    "name": "ipython",
    "version": 3
   },
   "file_extension": ".py",
   "mimetype": "text/x-python",
   "name": "python",
   "nbconvert_exporter": "python",
   "pygments_lexer": "ipython3",
   "version": "3.5.1"
  }
 },
 "nbformat": 4,
 "nbformat_minor": 2
}
